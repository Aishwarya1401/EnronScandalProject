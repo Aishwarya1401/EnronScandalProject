{
 "cells": [
  {
   "cell_type": "markdown",
   "metadata": {},
   "source": [
    "1.Summarize for us the goal of this project and how machine learning is useful in trying to accomplish it. As part of your answer, give some background on the dataset and how it can be used to answer the project question. Were there any outliers in the data when you got it, and how did you handle those?  [relevant rubric items: “data exploration”, “outlier investigation”]\n"
   ]
  },
  {
   "cell_type": "markdown",
   "metadata": {},
   "source": [
    "The goal of this project is to identify the person of interest, which means individuals who were indicted, reached a settlement or plea deal with the government, or testified in exchange for prosecution immunity in Enron scandal. Through machine learning we can find the person of interest based on financial and email data made public as a result of the Enron scandal.\n",
    "As seen from the pdf of financial data the row ‘TOTAL’ is outlier(plotted salary vs poi and found TOTAL as an outlier). There are many entries in which the payments column is empty and only the stock values are filled, these can also treated as outliers because here our concern is to identify the person of interest. However, if our concern wasn’t person of interest this data can meaningful because these can be fake people added by person of interest intentionally. For this project I will be replacing these NaN values with zero.\n"
   ]
  },
  {
   "cell_type": "code",
   "execution_count": 1,
   "metadata": {
    "collapsed": false
   },
   "outputs": [
    {
     "name": "stderr",
     "output_type": "stream",
     "text": [
      "/Users/aishwaryapatil/anaconda/lib/python2.7/site-packages/sklearn/cross_validation.py:44: DeprecationWarning: This module was deprecated in version 0.18 in favor of the model_selection module into which all the refactored classes and functions are moved. Also note that the interface of the new CV iterators are different from that of this module. This module will be removed in 0.20.\n",
      "  \"This module will be removed in 0.20.\", DeprecationWarning)\n"
     ]
    }
   ],
   "source": [
    "import sys\n",
    "import pickle\n",
    "sys.path.append(\"../tools/\")\n",
    "\n",
    "from feature_format import featureFormat, targetFeatureSplit\n",
    "from tester import dump_classifier_and_data\n",
    "\n",
    "import numpy as np\n",
    "import pandas as pd\n",
    "\n",
    "import matplotlib.pyplot as plt\n",
    "%matplotlib inline\n",
    "\n",
    "import warnings\n",
    "warnings.filterwarnings('ignore')"
   ]
  },
  {
   "cell_type": "code",
   "execution_count": 2,
   "metadata": {
    "collapsed": true
   },
   "outputs": [],
   "source": [
    "with open(\"final_project_dataset.pkl\", \"r\") as data_file:\n",
    "    data_dict = pickle.load(data_file)\n",
    "df_enron = pd.DataFrame.from_dict(data_dict, orient='index')\n",
    "df_enron = df_enron.replace('NaN', np.nan)"
   ]
  },
  {
   "cell_type": "markdown",
   "metadata": {},
   "source": [
    "# Exploratory Data Analysis of Enron Data"
   ]
  },
  {
   "cell_type": "markdown",
   "metadata": {},
   "source": [
    "I will be checking for the number of Insiders and Person of interest (POI)"
   ]
  },
  {
   "cell_type": "code",
   "execution_count": 3,
   "metadata": {
    "collapsed": false
   },
   "outputs": [
    {
     "name": "stdout",
     "output_type": "stream",
     "text": [
      "Insiders: 146\n",
      "Number of POIs: 18\n",
      "Fraction of examples that are POIs: 0.123287671233\n",
      "Number of features: 21\n"
     ]
    }
   ],
   "source": [
    "print 'Insiders:', df_enron['poi'].count()\n",
    "print 'Number of POIs:', df_enron.loc[df_enron.poi == True, 'poi'].count()\n",
    "print 'Fraction of examples that are POIs:', \\\n",
    "    float(df_enron.loc[df_enron.poi == True, 'poi'].count()) / df_enron['poi'].count()\n",
    "print 'Number of features:', df_enron.shape[1]"
   ]
  },
  {
   "cell_type": "markdown",
   "metadata": {},
   "source": [
    "As the number of POI's are less , I have used stratified shuffle split which maintains the ratio between POI and non POI while training as well as testing the model."
   ]
  },
  {
   "cell_type": "code",
   "execution_count": 4,
   "metadata": {
    "collapsed": true
   },
   "outputs": [],
   "source": [
    "Features = ['poi', 'email_address', 'salary', 'to_messages', 'deferral_payments', \n",
    "                'total_payments', 'exercised_stock_options', 'bonus', 'restricted_stock', \n",
    "                'shared_receipt_with_poi', 'restricted_stock_deferred', 'total_stock_value', \n",
    "                'expenses', 'loan_advances', 'from_messages', 'other', 'from_this_person_to_poi', \n",
    "                'director_fees', 'deferred_income', 'long_term_incentive', 'from_poi_to_this_person']\n",
    "\n",
    "FinancialFeatures = ['salary', 'deferral_payments', 'total_payments', 'loan_advances', 'bonus',\n",
    "                    'restricted_stock_deferred', 'deferred_income', 'total_stock_value', 'expenses',\n",
    "                    'exercised_stock_options', 'other', 'long_term_incentive', 'restricted_stock', \n",
    "                    'director_fees']\n",
    "EmailFeatures = ['to_messages', 'from_poi_to_this_person', 'from_messages', 'from_this_person_to_poi',\n",
    "                  'shared_receipt_with_poi']"
   ]
  },
  {
   "cell_type": "markdown",
   "metadata": {},
   "source": [
    "After seeing the pdf there were a lot of null values in the data. "
   ]
  },
  {
   "cell_type": "code",
   "execution_count": 5,
   "metadata": {
    "collapsed": false
   },
   "outputs": [
    {
     "name": "stdout",
     "output_type": "stream",
     "text": [
      "Null values in features\n"
     ]
    },
    {
     "data": {
      "text/plain": [
       "salary                        51\n",
       "to_messages                   60\n",
       "deferral_payments            107\n",
       "total_payments                21\n",
       "exercised_stock_options       44\n",
       "bonus                         64\n",
       "restricted_stock              36\n",
       "shared_receipt_with_poi       60\n",
       "restricted_stock_deferred    128\n",
       "total_stock_value             20\n",
       "expenses                      51\n",
       "loan_advances                142\n",
       "from_messages                 60\n",
       "other                         53\n",
       "from_this_person_to_poi       60\n",
       "poi                            0\n",
       "director_fees                129\n",
       "deferred_income               97\n",
       "long_term_incentive           80\n",
       "email_address                 35\n",
       "from_poi_to_this_person       60\n",
       "dtype: int64"
      ]
     },
     "execution_count": 5,
     "metadata": {},
     "output_type": "execute_result"
    }
   ],
   "source": [
    "print 'Null values in features'\n",
    "df_enron.isnull().sum()"
   ]
  },
  {
   "cell_type": "markdown",
   "metadata": {},
   "source": [
    "EmailFeatures have near about same number 60 , the poi must have deleted these or created them purposely.\n",
    "Loan advances have maximum number of null values.\n"
   ]
  },
  {
   "cell_type": "code",
   "execution_count": 6,
   "metadata": {
    "collapsed": true
   },
   "outputs": [],
   "source": [
    "with open(\"final_project_dataset.pkl\", \"r\") as data_file:\n",
    "    data_dict = pickle.load(data_file)\n",
    "\n",
    "df_enron = pd.DataFrame.from_dict(data_dict, orient='index')\n",
    "df_enron = df_enron.replace('NaN', np.nan)"
   ]
  },
  {
   "cell_type": "markdown",
   "metadata": {},
   "source": [
    "As our purpose is to find the person of interest , I thought of filling the null values with zero.\n",
    "Removing these would not be a good solution because there are a lot of them, this will remove half of our data."
   ]
  },
  {
   "cell_type": "code",
   "execution_count": 7,
   "metadata": {
    "collapsed": true
   },
   "outputs": [],
   "source": [
    "df_enron[FinancialFeatures] = df_enron[FinancialFeatures].fillna(0)"
   ]
  },
  {
   "cell_type": "markdown",
   "metadata": {},
   "source": [
    "There are many ways to impute the missing values of email features , I decided to go for median."
   ]
  },
  {
   "cell_type": "code",
   "execution_count": 8,
   "metadata": {
    "collapsed": true
   },
   "outputs": [],
   "source": [
    "df_enron[EmailFeatures] = df_enron[EmailFeatures].fillna(df_enron[EmailFeatures].median())"
   ]
  },
  {
   "cell_type": "code",
   "execution_count": 18,
   "metadata": {
    "collapsed": false
   },
   "outputs": [
    {
     "data": {
      "image/png": "[encoded data removed]",
      "text/plain": [
       "<matplotlib.figure.Figure at 0x134bac650>"
      ]
     },
     "metadata": {},
     "output_type": "display_data"
    }
   ],
   "source": [
    "import seaborn as sns\n",
    "sns.set(color_codes=True)\n",
    "sns.pairplot(df_enron, x_vars=['salary', 'bonus'], y_vars=['poi'],\n",
    "             hue='poi', size=5, aspect=.8);"
   ]
  },
  {
   "cell_type": "markdown",
   "metadata": {},
   "source": [
    "As one can see there is a outlier to the extreme right which is TOTAL"
   ]
  },
  {
   "cell_type": "code",
   "execution_count": 11,
   "metadata": {
    "collapsed": true
   },
   "outputs": [],
   "source": [
    "df_enron = df_enron.drop('TOTAL')"
   ]
  },
  {
   "cell_type": "markdown",
   "metadata": {},
   "source": [
    "2.What features did you end up using in your POI identifier, and what selection process did you use to pick them? Did you have to do any scaling? Why or why not? As part of the assignment, you should attempt to engineer your own feature that does not come ready-made in the dataset -- explain what feature you tried to make, and the rationale behind it. (You do not necessarily have to use it in the final analysis, only engineer and test it.) In your feature selection step, if you used an algorithm like a decision tree, please also give the feature importance of the features that you use, and if you used an automated feature selection function like SelectKBest, please report the feature scores and reasons for your choice of parameter values.  [relevant rubric items: “create new features”, “properly scale features”, “intelligently select feature”]\n"
   ]
  },
  {
   "cell_type": "markdown",
   "metadata": {
    "collapsed": true
   },
   "source": [
    "Took all of the financial features . \n",
    "\n",
    "For email features I engineered two new fetaures fraction_of_messages_to_poi,\n",
    "fraction_of_messages_from_poi , just using from_message and to_message didn’t make sense because my goal is to identify the person of interest , if  the fraction  number of messages from poi to a particular person(vice versa) is high then the chances are more, that the other person is person of interest.\n",
    "\n",
    "Scaled the features because some features have relatively high magnitude that others such salary using MinMax scaler. For feature selection step I used Select K Best algorithm.\n",
    "\n",
    "Performed GridSearch CV and noted the value of best parameters. The best value was for k = 10.\n",
    "\n",
    "Also applied Principal Component Analysis ,as there might be some features which were related , in order to not miss out on collinearity , I used PCA . \n",
    "\n",
    "GridSearchCV gave the best parameters for PCA.\n"
   ]
  },
  {
   "cell_type": "markdown",
   "metadata": {},
   "source": [
    "Adding new feature "
   ]
  },
  {
   "cell_type": "code",
   "execution_count": 12,
   "metadata": {
    "collapsed": true
   },
   "outputs": [],
   "source": [
    "df_enron['fraction_of_messages_to_poi'] = df_enron.from_this_person_to_poi / df_enron.from_messages\n",
    "df_enron['fraction_of_messages_from_poi'] = df_enron.from_poi_to_this_person / df_enron.to_messages"
   ]
  },
  {
   "cell_type": "code",
   "execution_count": 20,
   "metadata": {
    "collapsed": true
   },
   "outputs": [],
   "source": [
    "my_dataset = df_enron.to_dict('index')\n",
    "\n",
    "features_list = ['poi', 'salary', 'to_messages', 'deferral_payments', 'total_payments',\n",
    "       'exercised_stock_options', 'bonus', 'restricted_stock',\n",
    "       'shared_receipt_with_poi', 'expenses', 'from_messages', 'other',\n",
    "       'long_term_incentive', 'fraction_of_messages_to_poi',\n",
    "       'fraction_of_messages_from_poi']\n",
    "       "
   ]
  },
  {
   "cell_type": "code",
   "execution_count": 21,
   "metadata": {
    "collapsed": false
   },
   "outputs": [],
   "source": [
    "data = featureFormat(my_dataset, features_list, sort_keys = True)\n",
    "labels, features = targetFeatureSplit(data)"
   ]
  },
  {
   "cell_type": "code",
   "execution_count": 22,
   "metadata": {
    "collapsed": true
   },
   "outputs": [],
   "source": [
    "from sklearn.preprocessing import RobustScaler\n",
    "from sklearn.preprocessing import MinMaxScaler\n",
    "from sklearn.pipeline import Pipeline\n",
    "from sklearn.decomposition import PCA\n",
    "from sklearn.feature_selection import SelectKBest\n",
    "from sklearn.neighbors import KNeighborsClassifier\n",
    "from time import time\n",
    "from sklearn.tree import DecisionTreeClassifier\n",
    "from sklearn.svm import SVC\n",
    "from sklearn.ensemble import AdaBoostClassifier\n",
    "from sklearn.grid_search import GridSearchCV\n",
    "from sklearn.metrics import f1_score, accuracy_score, make_scorer\n",
    "from sklearn.cross_validation import StratifiedKFold\n",
    "from sklearn.cross_validation import StratifiedShuffleSplit\n",
    "from sklearn.linear_model import LogisticRegression\n",
    "from sklearn.ensemble import GradientBoostingClassifier\n",
    "from sklearn.ensemble import AdaBoostClassifier"
   ]
  },
  {
   "cell_type": "code",
   "execution_count": 23,
   "metadata": {
    "collapsed": false
   },
   "outputs": [],
   "source": [
    "from tester import test_classifier"
   ]
  },
  {
   "cell_type": "markdown",
   "metadata": {},
   "source": [
    "3) What algorithm did you end up using? What other one(s) did you try? How did model performance differ between algorithms?\n"
   ]
  },
  {
   "cell_type": "markdown",
   "metadata": {},
   "source": [
    "Tried using KNearestNeighbor first , which gave  precision of  0.27766 and recall of 0.26774.\n",
    "\n",
    "Then, performed Logistic Regression which gave a high  precision 0.42534   and recall of  0.27021.\n",
    "\n",
    "Decision Tree Classifier gave better result with precision of 0.30472 and recall of 0.30350.\n",
    "\n",
    "(Tried other classifiers also but they were taking too much time to run)\n",
    "\n"
   ]
  },
  {
   "cell_type": "markdown",
   "metadata": {},
   "source": [
    "Trying with KNearestNeighbor"
   ]
  },
  {
   "cell_type": "code",
   "execution_count": 24,
   "metadata": {
    "collapsed": true
   },
   "outputs": [],
   "source": [
    "pipeline = Pipeline([\n",
    "    ('scaler', MinMaxScaler()),\n",
    "    ('Selection',SelectKBest(k=10)),\n",
    "    ('Pca', PCA()),\n",
    "    ('clas', KNeighborsClassifier()),\n",
    "])"
   ]
  },
  {
   "cell_type": "code",
   "execution_count": 25,
   "metadata": {
    "collapsed": true
   },
   "outputs": [],
   "source": [
    "parameters = {\n",
    "    #'scaler__with_centering': (True,False),\n",
    "    #'vect__max_features': (None, 5000, 10000, 50000),\n",
    "    #'scaler__with_scaling': (True,False),  # unigrams or bigrams\n",
    "    'Pca__n_components': ([1,9]),\n",
    "    'Pca__whiten': (True, False),\n",
    "    #'Pca__random_state': ([1,100]),\n",
    "    'Pca__svd_solver':('auto', 'full', 'arpack', 'randomized'),\n",
    "    'clas__n_neighbors':([1,5])\n",
    "    #'clas__kernel':('rbf','poly','sigmoid','linear'),\n",
    "    #'clas__C':([1,100]),\n",
    "    #'clas__gamma':([0,1])\n",
    "    #'clas__splitter':('best','random'),\n",
    "    #'clas__max_features':('log2','sqrt')\n",
    "}"
   ]
  },
  {
   "cell_type": "code",
   "execution_count": 26,
   "metadata": {
    "collapsed": false
   },
   "outputs": [],
   "source": [
    "gs = GridSearchCV(pipeline, parameters,scoring='f1',cv=StratifiedShuffleSplit(labels,1000,random_state = 42))\n",
    "t0 = time()\n"
   ]
  },
  {
   "cell_type": "code",
   "execution_count": 27,
   "metadata": {
    "collapsed": false
   },
   "outputs": [
    {
     "name": "stdout",
     "output_type": "stream",
     "text": [
      "done in 299.495s\n",
      "{'Pca__n_components': 1, 'Pca__svd_solver': 'auto', 'clas__n_neighbors': 1, 'Pca__whiten': True}\n",
      "0.239637301587\n"
     ]
    }
   ],
   "source": [
    "gs.fit(features, labels)\n",
    "print(\"done in %0.3fs\" % (time() - t0))\n",
    "print gs.best_params_\n",
    "print gs.best_score_\n",
    "clf= gs.best_estimator_\n",
    "dump_classifier_and_data(clf, my_dataset, features_list)"
   ]
  },
  {
   "cell_type": "code",
   "execution_count": 28,
   "metadata": {
    "collapsed": false,
    "scrolled": false
   },
   "outputs": [
    {
     "name": "stdout",
     "output_type": "stream",
     "text": [
      "Pipeline(steps=[('scaler', MinMaxScaler(copy=True, feature_range=(0, 1))), ('Selection', SelectKBest(k=10, score_func=<function f_classif at 0x116db39b0>)), ('Pca', PCA(copy=True, iterated_power='auto', n_components=1, random_state=None,\n",
      "  svd_solver='auto', tol=0.0, whiten=True)), ('clas', KNeighborsClassifier(algorithm='auto', leaf_size=30, metric='minkowski',\n",
      "           metric_params=None, n_jobs=1, n_neighbors=1, p=2,\n",
      "           weights='uniform'))])\n",
      "\tAccuracy: 0.81147\tPrecision: 0.27766\tRecall: 0.25850\tF1: 0.26774\tF2: 0.26212\n",
      "\tTotal predictions: 15000\tTrue positives:  517\tFalse positives: 1345\tFalse negatives: 1483\tTrue negatives: 11655\n",
      "\n"
     ]
    }
   ],
   "source": [
    "test_classifier(clf,my_dataset, features_list)"
   ]
  },
  {
   "cell_type": "markdown",
   "metadata": {},
   "source": [
    "Got precision and recall less than 0.3  with KNearestNeighbor"
   ]
  },
  {
   "cell_type": "markdown",
   "metadata": {},
   "source": [
    "Tried Support Vector Machine but it was taking a lot of time to run."
   ]
  },
  {
   "cell_type": "markdown",
   "metadata": {},
   "source": [
    "Logistic Regression :"
   ]
  },
  {
   "cell_type": "code",
   "execution_count": 29,
   "metadata": {
    "collapsed": true
   },
   "outputs": [],
   "source": [
    "pipeline = Pipeline([\n",
    "    ('scaler', MinMaxScaler()),\n",
    "    ('Selection',SelectKBest(k=10)),\n",
    "    ('Pca', PCA()),\n",
    "    ('clas', LogisticRegression()),\n",
    "])"
   ]
  },
  {
   "cell_type": "code",
   "execution_count": 30,
   "metadata": {
    "collapsed": true
   },
   "outputs": [],
   "source": [
    "parameters = {\n",
    "    #'scaler__with_centering': (True,False),\n",
    "    #'vect__max_features': (None, 5000, 10000, 50000),\n",
    "    #'scaler__with_scaling': (True,False),  # unigrams or bigrams\n",
    "    'Pca__n_components': ([1,9]),\n",
    "    'Pca__whiten': (True, False),\n",
    "    #'Pca__random_state': ([1,100]),\n",
    "    'Pca__svd_solver':('auto', 'full', 'arpack', 'randomized'),\n",
    "    'clas__penalty' :('l1','l2')\n",
    "    #'clas__n_neighbors':([1,5])\n",
    "    #'clas__kernel':('rbf','poly','sigmoid','linear'),\n",
    "    #'clas__C':([1,100]),\n",
    "    #'clas__gamma':([0,1])\n",
    "    #'clas__splitter':('best','random'),\n",
    "    #'clas__max_features':('log2','sqrt')\n",
    "}"
   ]
  },
  {
   "cell_type": "code",
   "execution_count": 31,
   "metadata": {
    "collapsed": true
   },
   "outputs": [],
   "source": [
    "gs = GridSearchCV(pipeline, parameters,scoring='f1',cv=StratifiedShuffleSplit(labels,1000,random_state = 42))\n",
    "t0 = time()\n"
   ]
  },
  {
   "cell_type": "code",
   "execution_count": 32,
   "metadata": {
    "collapsed": false
   },
   "outputs": [
    {
     "name": "stdout",
     "output_type": "stream",
     "text": [
      "done in 286.374s\n",
      "{'Pca__n_components': 9, 'clas__penalty': 'l2', 'Pca__svd_solver': 'auto', 'Pca__whiten': True}\n",
      "0.225719047619\n"
     ]
    }
   ],
   "source": [
    "gs.fit(features, labels)\n",
    "print(\"done in %0.3fs\" % (time() - t0))\n",
    "print gs.best_params_\n",
    "print gs.best_score_\n",
    "clf= gs.best_estimator_\n",
    "dump_classifier_and_data(clf, my_dataset, features_list)"
   ]
  },
  {
   "cell_type": "code",
   "execution_count": 33,
   "metadata": {
    "collapsed": false
   },
   "outputs": [
    {
     "name": "stdout",
     "output_type": "stream",
     "text": [
      "Pipeline(steps=[('scaler', MinMaxScaler(copy=True, feature_range=(0, 1))), ('Selection', SelectKBest(k=10, score_func=<function f_classif at 0x116db39b0>)), ('Pca', PCA(copy=True, iterated_power='auto', n_components=9, random_state=None,\n",
      "  svd_solver='auto', tol=0.0, whiten=True)), ('clas', LogisticRegressio...ty='l2', random_state=None, solver='liblinear', tol=0.0001,\n",
      "          verbose=0, warm_start=False))])\n",
      "\tAccuracy: 0.85740\tPrecision: 0.42535\tRecall: 0.19800\tF1: 0.27021\tF2: 0.22170\n",
      "\tTotal predictions: 15000\tTrue positives:  396\tFalse positives:  535\tFalse negatives: 1604\tTrue negatives: 12465\n",
      "\n"
     ]
    }
   ],
   "source": [
    "test_classifier(clf,my_dataset, features_list)"
   ]
  },
  {
   "cell_type": "markdown",
   "metadata": {},
   "source": [
    "Precision looks good but recall is below 0.3"
   ]
  },
  {
   "cell_type": "markdown",
   "metadata": {
    "collapsed": true
   },
   "source": [
    "Decision Tree Classifier\n",
    "\n",
    "Code in poi_id.py file"
   ]
  },
  {
   "cell_type": "markdown",
   "metadata": {
    "collapsed": true
   },
   "source": [
    "4.What does it mean to tune the parameters of an algorithm, and what can happen if you don’t do this well?  How did you tune the parameters of your particular algorithm? (Some algorithms do not have parameters that you need to tune -- if this is the case for the one you picked, identify and briefly explain how you would have done it for the model that was not your final choice or a different model that does utilize parameter tuning, e.g. a decision tree classifier).  [relevant rubric item: “tune the algorithm”]\n",
    "\n"
   ]
  },
  {
   "cell_type": "markdown",
   "metadata": {},
   "source": [
    "Classifiers have parameters which affect the performance of the model. \n",
    "\n",
    "To tune parameters means to adjust the parameters of the classifier in order to give the best performance.\n",
    "\n",
    "The parameters involved with my final classifier ,that is Decision Tree classifier , were splitter and random state.\n",
    "\n",
    "Used GridSearchCV in order to find the best parameters. \n"
   ]
  },
  {
   "cell_type": "markdown",
   "metadata": {},
   "source": [
    "5.What is validation, and what’s a classic mistake you can make if you do it wrong? How did you validate your analysis?  [relevant rubric item: “validation strategy”]\n"
   ]
  },
  {
   "cell_type": "markdown",
   "metadata": {},
   "source": [
    "After training the model with a dataset , it is important to test the model with a different dataset , this is known as validation .\n",
    "\n",
    "Classic mistake one can make is using the training data for testing the model , it is important to either spilt the data into different parts one for training and one for testing , or use a different dataset for both the task. \n",
    "\n",
    "Used StratifiedShuffleSplit for splitting my data with 1000 iterations .\n"
   ]
  },
  {
   "cell_type": "markdown",
   "metadata": {},
   "source": [
    "6.Give at least 2 evaluation metrics and your average performance for each of them.  Explain an interpretation of your metrics that says something human-understandable about your algorithm’s performance. [relevant rubric item: “usage of evaluation metrics”]\n"
   ]
  },
  {
   "cell_type": "markdown",
   "metadata": {},
   "source": [
    "Evaluation metrics I are precision and recall . With Decision Tree Classifier I got a precision of 0.30472 and recall of 0.30350\n"
   ]
  }
 ],
 "metadata": {
  "anaconda-cloud": {},
  "kernelspec": {
   "display_name": "Python [conda root]",
   "language": "python",
   "name": "conda-root-py"
  },
  "language_info": {
   "codemirror_mode": {
    "name": "ipython",
    "version": 2
   },
   "file_extension": ".py",
   "mimetype": "text/x-python",
   "name": "python",
   "nbconvert_exporter": "python",
   "pygments_lexer": "ipython2",
   "version": "2.7.12"
  }
 },
 "nbformat": 4,
 "nbformat_minor": 1
}
